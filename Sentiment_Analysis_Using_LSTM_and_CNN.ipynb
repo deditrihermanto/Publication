{
  "nbformat": 4,
  "nbformat_minor": 0,
  "metadata": {
    "colab": {
      "name": "Sentiment Analysis Using LSTM and CNN.ipynb",
      "provenance": [],
      "collapsed_sections": []
    },
    "kernelspec": {
      "name": "python3",
      "display_name": "Python 3"
    }
  },
  "cells": [
    {
      "cell_type": "markdown",
      "metadata": {
        "id": "pHabAsl75Mz1",
        "colab_type": "text"
      },
      "source": [
        "-------- Note --------\n",
        "1. Open Sentiment Analysis Using LSTM and CNN.ipynb using google pro\n",
        "2. Upload ***function.py*** into your directory\n",
        "3. Upload all models ***.h5** into your directory\n",
        "4. Change judulBerita to analyse sentiment of the new text\n",
        "5. Run All the codes"
      ]
    },
    {
      "cell_type": "code",
      "metadata": {
        "id": "-KH41NkQnRrV",
        "colab_type": "code",
        "colab": {}
      },
      "source": [
        "import function "
      ],
      "execution_count": null,
      "outputs": []
    },
    {
      "cell_type": "code",
      "metadata": {
        "id": "_zsd7uDtoj9b",
        "colab_type": "code",
        "colab": {}
      },
      "source": [
        "judulBerita = 'Terdakwa Kasus Jiwasraya Beri Uang Jajan Rp 100 Juta, Prediksi Harga Emas'"
      ],
      "execution_count": null,
      "outputs": []
    },
    {
      "cell_type": "code",
      "metadata": {
        "id": "y61av49V4C7T",
        "colab_type": "code",
        "colab": {}
      },
      "source": [
        "modelLSTM = 'lstm.h5'\n",
        "modelLSTM_CNN ='lstm-cnn.h5'\n",
        "modelCNN_LSTM = 'cnn-lstm.h5' "
      ],
      "execution_count": null,
      "outputs": []
    },
    {
      "cell_type": "code",
      "metadata": {
        "id": "Cb8PrE7qou_6",
        "colab_type": "code",
        "colab": {
          "base_uri": "https://localhost:8080/",
          "height": 85
        },
        "outputId": "a45c0aa0-87fc-48b6-8124-c64ee86e77c6"
      },
      "source": [
        "AnalysisSentiment = function.InputSentence(judulBerita,modelLSTM,modelLSTM_CNN,modelCNN_LSTM)\n",
        "AnalysisSentiment.Predict()"
      ],
      "execution_count": null,
      "outputs": [
        {
          "output_type": "stream",
          "text": [
            "Berita \"Terdakwa Kasus Jiwasraya Beri Uang Jajan Rp 100 Juta, Prediksi Harga Emas\"\n",
            "Hasil Analisis Sentimen Model LSTM pada berita diatas adalah \"negative\"\n",
            "Hasil Analisis Sentimen Model LSTM-CNN pada berita diatas adalah \"negative\"\n",
            "Hasil Analisis Sentimen Model CNN-LSTM pada berita diatas adalah \"negative\"\n"
          ],
          "name": "stdout"
        }
      ]
    }
  ]
}